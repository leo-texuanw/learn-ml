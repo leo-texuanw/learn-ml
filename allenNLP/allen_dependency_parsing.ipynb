{
 "cells": [
  {
   "cell_type": "code",
   "execution_count": 1,
   "metadata": {},
   "outputs": [],
   "source": [
    "from allennlp.predictors.predictor import Predictor"
   ]
  },
  {
   "cell_type": "code",
   "execution_count": 2,
   "metadata": {},
   "outputs": [
    {
     "name": "stderr",
     "output_type": "stream",
     "text": [
      "Did not use initialization regex that was passed: .*bias_ih.*\n",
      "Did not use initialization regex that was passed: .*weight_hh.*\n",
      "Did not use initialization regex that was passed: .*bias_hh.*\n",
      "Did not use initialization regex that was passed: .*weight_ih.*\n"
     ]
    }
   ],
   "source": [
    "predictor = Predictor.from_path(\"https://s3-us-west-2.amazonaws.com/allennlp/models/biaffine-dependency-parser-ptb-2018.08.23.tar.gz\")"
   ]
  },
  {
   "cell_type": "code",
   "execution_count": 12,
   "metadata": {},
   "outputs": [],
   "source": [
    "sentence = \"He is currently 70 and was recently found to have a drug overdose.\"\n",
    "result = predictor.predict(sentence=sentence)"
   ]
  },
  {
   "cell_type": "code",
   "execution_count": 13,
   "metadata": {},
   "outputs": [
    {
     "name": "stdout",
     "output_type": "stream",
     "text": [
      "dict_keys(['arc_loss', 'tag_loss', 'loss', 'words', 'pos', 'predicted_dependencies', 'predicted_heads', 'hierplane_tree'])\n",
      "\n",
      " ['PRP', 'VBZ', 'RB', 'CD', 'CC', 'VBD', 'RB', 'VBN', 'TO', 'VB', 'DT', 'NN', 'NN', '.']\n"
     ]
    }
   ],
   "source": [
    "print(result.keys())\n",
    "print('\\n', result['pos'])"
   ]
  },
  {
   "cell_type": "code",
   "execution_count": 14,
   "metadata": {},
   "outputs": [
    {
     "name": "stdout",
     "output_type": "stream",
     "text": [
      "dict_keys(['text', 'root', 'nodeTypeToStyle', 'linkToPosition'])\n"
     ]
    },
    {
     "data": {
      "text/plain": [
       "{'nsubj': 'left',\n",
       " 'nsubjpass': 'left',\n",
       " 'csubj': 'left',\n",
       " 'csubjpass': 'left',\n",
       " 'pobj': 'right',\n",
       " 'dobj': 'right',\n",
       " 'iobj': 'right',\n",
       " 'pcomp': 'right',\n",
       " 'xcomp': 'right',\n",
       " 'ccomp': 'right',\n",
       " 'acomp': 'right'}"
      ]
     },
     "execution_count": 14,
     "metadata": {},
     "output_type": "execute_result"
    }
   ],
   "source": [
    "print(result['hierplane_tree'].keys())\n",
    "result['hierplane_tree']['linkToPosition']"
   ]
  },
  {
   "cell_type": "code",
   "execution_count": 15,
   "metadata": {
    "scrolled": true
   },
   "outputs": [
    {
     "data": {
      "text/plain": [
       "{'word': '70',\n",
       " 'nodeType': 'root',\n",
       " 'attributes': ['CD'],\n",
       " 'link': 'root',\n",
       " 'spans': [{'start': 16, 'end': 19}],\n",
       " 'children': [{'word': 'He',\n",
       "   'nodeType': 'nsubj',\n",
       "   'attributes': ['PRP'],\n",
       "   'link': 'nsubj',\n",
       "   'spans': [{'start': 0, 'end': 3}]},\n",
       "  {'word': 'is',\n",
       "   'nodeType': 'cop',\n",
       "   'attributes': ['VBZ'],\n",
       "   'link': 'cop',\n",
       "   'spans': [{'start': 3, 'end': 6}]},\n",
       "  {'word': 'currently',\n",
       "   'nodeType': 'advmod',\n",
       "   'attributes': ['RB'],\n",
       "   'link': 'advmod',\n",
       "   'spans': [{'start': 6, 'end': 16}]},\n",
       "  {'word': 'and',\n",
       "   'nodeType': 'cc',\n",
       "   'attributes': ['CC'],\n",
       "   'link': 'cc',\n",
       "   'spans': [{'start': 19, 'end': 23}]},\n",
       "  {'word': 'found',\n",
       "   'nodeType': 'conj',\n",
       "   'attributes': ['VBN'],\n",
       "   'link': 'conj',\n",
       "   'spans': [{'start': 36, 'end': 42}],\n",
       "   'children': [{'word': 'was',\n",
       "     'nodeType': 'auxpass',\n",
       "     'attributes': ['VBD'],\n",
       "     'link': 'auxpass',\n",
       "     'spans': [{'start': 23, 'end': 27}]},\n",
       "    {'word': 'recently',\n",
       "     'nodeType': 'advmod',\n",
       "     'attributes': ['RB'],\n",
       "     'link': 'advmod',\n",
       "     'spans': [{'start': 27, 'end': 36}]},\n",
       "    {'word': 'have',\n",
       "     'nodeType': 'xcomp',\n",
       "     'attributes': ['VB'],\n",
       "     'link': 'xcomp',\n",
       "     'spans': [{'start': 45, 'end': 50}],\n",
       "     'children': [{'word': 'to',\n",
       "       'nodeType': 'aux',\n",
       "       'attributes': ['TO'],\n",
       "       'link': 'aux',\n",
       "       'spans': [{'start': 42, 'end': 45}]},\n",
       "      {'word': 'overdose',\n",
       "       'nodeType': 'dobj',\n",
       "       'attributes': ['NN'],\n",
       "       'link': 'dobj',\n",
       "       'spans': [{'start': 57, 'end': 66}],\n",
       "       'children': [{'word': 'a',\n",
       "         'nodeType': 'det',\n",
       "         'attributes': ['DT'],\n",
       "         'link': 'det',\n",
       "         'spans': [{'start': 50, 'end': 52}]},\n",
       "        {'word': 'drug',\n",
       "         'nodeType': 'nn',\n",
       "         'attributes': ['NN'],\n",
       "         'link': 'nn',\n",
       "         'spans': [{'start': 52, 'end': 57}]}]}]}]},\n",
       "  {'word': '.',\n",
       "   'nodeType': 'punct',\n",
       "   'attributes': ['.'],\n",
       "   'link': 'punct',\n",
       "   'spans': [{'start': 66, 'end': 68}]}]}"
      ]
     },
     "execution_count": 15,
     "metadata": {},
     "output_type": "execute_result"
    }
   ],
   "source": [
    "result['hierplane_tree']['root']"
   ]
  },
  {
   "cell_type": "code",
   "execution_count": null,
   "metadata": {},
   "outputs": [],
   "source": []
  }
 ],
 "metadata": {
  "kernelspec": {
   "display_name": "Python 3",
   "language": "python",
   "name": "python3"
  },
  "language_info": {
   "codemirror_mode": {
    "name": "ipython",
    "version": 3
   },
   "file_extension": ".py",
   "mimetype": "text/x-python",
   "name": "python",
   "nbconvert_exporter": "python",
   "pygments_lexer": "ipython3",
   "version": "3.6.8"
  }
 },
 "nbformat": 4,
 "nbformat_minor": 2
}
