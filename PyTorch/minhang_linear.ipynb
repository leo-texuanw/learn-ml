{
 "cells": [
  {
   "cell_type": "markdown",
   "metadata": {},
   "source": [
    "# Jupyter shortcut\n",
    "\n",
    "- cell operation\n",
    "    - a : add cell up\n",
    "    - b : add cell down\n",
    "    - dd: delete cell\n",
    "    - x : cut cell\n",
    "    - v : paste cell\n",
    "\n",
    "- execution\n",
    "    - ctrl enter : execute current cell\n",
    "    - shift enter: execute current cell and move to next cell\n",
    "\n",
    "- cell mode switch\n",
    "    - y: switch to Code mode\n",
    "    - m: switch to Markdown mode\n",
    "    \n",
    "- others:\n",
    "    - enter: from command mode to edit mode\n",
    "    - l: show lines"
   ]
  },
  {
   "cell_type": "markdown",
   "metadata": {},
   "source": [
    "# High use libraries\n",
    "- numpy\n",
    "- matplotlib/ seaborn\n",
    "- scipy\n",
    "- pandas\n",
    "- sklearn\n",
    "- gensim - for NLP"
   ]
  },
  {
   "cell_type": "code",
   "execution_count": 1,
   "metadata": {},
   "outputs": [],
   "source": [
    "import torch\n",
    "import torch.optim as optim\n",
    "import torch.nn as nn\n",
    "import torch.nn.functional as F\n",
    "import numpy as np\n",
    "import matplotlib.pyplot as plt\n",
    "%matplotlib inline"
   ]
  },
  {
   "cell_type": "code",
   "execution_count": 2,
   "metadata": {},
   "outputs": [],
   "source": [
    "class Net(nn.Module):\n",
    "    def __init__(self):\n",
    "        super(Net, self).__init__()\n",
    "        # fc: full connetion\n",
    "        self.fc = nn.Linear(3, 1, bias=False) # or nn.Linear(2, 1)\n",
    "\n",
    "    def forward(self, x):\n",
    "        return self.fc(x)"
   ]
  },
  {
   "cell_type": "code",
   "execution_count": 3,
   "metadata": {},
   "outputs": [
    {
     "data": {
      "text/plain": [
       "[Parameter containing:\n",
       " tensor([[ 0.2015, -0.2151, -0.1587]], requires_grad=True)]"
      ]
     },
     "execution_count": 3,
     "metadata": {},
     "output_type": "execute_result"
    }
   ],
   "source": [
    "net = Net()\n",
    "list(net.parameters())"
   ]
  },
  {
   "cell_type": "code",
   "execution_count": 4,
   "metadata": {},
   "outputs": [],
   "source": [
    "x_1 = np.linspace(-10, 10, 1000)\n",
    "x_2 = x_1 ** 2\n",
    "x_0 = x_1 ** 0\n",
    "\n",
    "X = np.concatenate((x_2[None, :], # [] => [[]]\n",
    "                    x_1[None, :],\n",
    "                    x_0[None, :]), axis=0).T\n",
    "y = np.dot(X, np.array([6, 3, 4]))"
   ]
  },
  {
   "cell_type": "code",
   "execution_count": 5,
   "metadata": {},
   "outputs": [],
   "source": [
    "X = torch.tensor(X, dtype=torch.float32) # convert ndarray X to tensor\n",
    "y = torch.tensor(y, dtype=torch.float32)"
   ]
  },
  {
   "cell_type": "markdown",
   "metadata": {},
   "source": [
    "MSELoss:\n",
    "$$ L = \\sum\\frac{(y - \\hat{y})^2}{N} $$"
   ]
  },
  {
   "cell_type": "code",
   "execution_count": 6,
   "metadata": {},
   "outputs": [],
   "source": [
    "loss_function = nn.MSELoss()\n",
    "optimizer = optim.RMSprop(net.parameters(), lr=1e-2)"
   ]
  },
  {
   "cell_type": "code",
   "execution_count": 7,
   "metadata": {},
   "outputs": [
    {
     "name": "stdout",
     "output_type": "stream",
     "text": [
      "tensor(71603118080., grad_fn=<SumBackward0>)\n"
     ]
    }
   ],
   "source": [
    "y_hat = net(X)\n",
    "loss = loss_function(y, y_hat)\n",
    "loss.backward()\n",
    "print(loss)"
   ]
  },
  {
   "cell_type": "code",
   "execution_count": 8,
   "metadata": {},
   "outputs": [],
   "source": [
    "optimizer.step()"
   ]
  },
  {
   "cell_type": "code",
   "execution_count": 9,
   "metadata": {},
   "outputs": [],
   "source": [
    "y_hat = net(X)\n",
    "loss = loss_function(y, y_hat)"
   ]
  },
  {
   "cell_type": "code",
   "execution_count": 12,
   "metadata": {},
   "outputs": [
    {
     "name": "stdout",
     "output_type": "stream",
     "text": [
      "tensor(0.0008, grad_fn=<MseLossBackward>)\n",
      "tensor(0.0006, grad_fn=<MseLossBackward>)\n",
      "tensor(0.0005, grad_fn=<MseLossBackward>)\n",
      "tensor(0.0003, grad_fn=<MseLossBackward>)\n",
      "tensor(0.0002, grad_fn=<MseLossBackward>)\n",
      "tensor(0.0001, grad_fn=<MseLossBackward>)\n",
      "tensor(0.0000, grad_fn=<MseLossBackward>)\n",
      "tensor(0.0000, grad_fn=<MseLossBackward>)\n",
      "tensor(6.6687e-06, grad_fn=<MseLossBackward>)\n",
      "tensor(2.9328e-06, grad_fn=<MseLossBackward>)\n",
      "tensor(2.1556e-06, grad_fn=<MseLossBackward>)\n",
      "tensor(2.0109e-06, grad_fn=<MseLossBackward>)\n",
      "tensor(1.9239e-06, grad_fn=<MseLossBackward>)\n",
      "tensor(1.8453e-06, grad_fn=<MseLossBackward>)\n",
      "tensor(1.7230e-06, grad_fn=<MseLossBackward>)\n",
      "tensor(1.5789e-06, grad_fn=<MseLossBackward>)\n",
      "tensor(1.4065e-06, grad_fn=<MseLossBackward>)\n",
      "tensor(1.2068e-06, grad_fn=<MseLossBackward>)\n",
      "tensor(9.9562e-07, grad_fn=<MseLossBackward>)\n",
      "tensor(7.7638e-07, grad_fn=<MseLossBackward>)\n",
      "tensor(5.6135e-07, grad_fn=<MseLossBackward>)\n",
      "tensor(3.6889e-07, grad_fn=<MseLossBackward>)\n",
      "tensor(2.1454e-07, grad_fn=<MseLossBackward>)\n",
      "tensor(1.0638e-07, grad_fn=<MseLossBackward>)\n",
      "tensor(4.3110e-08, grad_fn=<MseLossBackward>)\n",
      "tensor(1.3588e-08, grad_fn=<MseLossBackward>)\n",
      "tensor(3.1785e-09, grad_fn=<MseLossBackward>)\n",
      "tensor(6.0055e-10, grad_fn=<MseLossBackward>)\n",
      "tensor(5.4598e-09, grad_fn=<MseLossBackward>)\n",
      "tensor(2.8770e-06, grad_fn=<MseLossBackward>)\n",
      "tensor(0.0065, grad_fn=<MseLossBackward>)\n",
      "tensor(0.0002, grad_fn=<MseLossBackward>)\n",
      "tensor(0.0010, grad_fn=<MseLossBackward>)\n",
      "tensor(0.0183, grad_fn=<MseLossBackward>)\n",
      "tensor(0.0575, grad_fn=<MseLossBackward>)\n",
      "tensor(0.0599, grad_fn=<MseLossBackward>)\n",
      "tensor(0.0440, grad_fn=<MseLossBackward>)\n",
      "tensor(0.0324, grad_fn=<MseLossBackward>)\n",
      "tensor(0.0278, grad_fn=<MseLossBackward>)\n",
      "tensor(0.0295, grad_fn=<MseLossBackward>)\n",
      "tensor(0.0375, grad_fn=<MseLossBackward>)\n",
      "tensor(0.0504, grad_fn=<MseLossBackward>)\n",
      "tensor(0.0617, grad_fn=<MseLossBackward>)\n",
      "tensor(0.0637, grad_fn=<MseLossBackward>)\n",
      "tensor(0.0585, grad_fn=<MseLossBackward>)\n",
      "tensor(0.0524, grad_fn=<MseLossBackward>)\n",
      "tensor(0.0492, grad_fn=<MseLossBackward>)\n",
      "tensor(0.0490, grad_fn=<MseLossBackward>)\n",
      "tensor(0.0508, grad_fn=<MseLossBackward>)\n",
      "tensor(0.0529, grad_fn=<MseLossBackward>)\n"
     ]
    }
   ],
   "source": [
    "for t in range(2500):\n",
    "    net.zero_grad()\n",
    "    y_hat = net(X)\n",
    "    loss = loss_function(y, y_hat.squeeze(1))\n",
    "    loss.backward()\n",
    "    optimizer.step()\n",
    "    \n",
    "    if t % 50 == 0:\n",
    "        print(loss)"
   ]
  },
  {
   "cell_type": "code",
   "execution_count": 11,
   "metadata": {},
   "outputs": [
    {
     "data": {
      "text/plain": [
       "[Parameter containing:\n",
       " tensor([[6.0000, 2.9952, 4.0023]], requires_grad=True)]"
      ]
     },
     "execution_count": 11,
     "metadata": {},
     "output_type": "execute_result"
    }
   ],
   "source": [
    "list(net.parameters())"
   ]
  },
  {
   "cell_type": "code",
   "execution_count": null,
   "metadata": {},
   "outputs": [],
   "source": []
  },
  {
   "cell_type": "code",
   "execution_count": null,
   "metadata": {},
   "outputs": [],
   "source": []
  }
 ],
 "metadata": {
  "kernelspec": {
   "display_name": "Python 3",
   "language": "python",
   "name": "python3"
  },
  "language_info": {
   "codemirror_mode": {
    "name": "ipython",
    "version": 3
   },
   "file_extension": ".py",
   "mimetype": "text/x-python",
   "name": "python",
   "nbconvert_exporter": "python",
   "pygments_lexer": "ipython3",
   "version": "3.6.4"
  }
 },
 "nbformat": 4,
 "nbformat_minor": 2
}
