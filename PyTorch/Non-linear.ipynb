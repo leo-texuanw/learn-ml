{
 "cells": [
  {
   "cell_type": "code",
   "execution_count": 1,
   "metadata": {},
   "outputs": [],
   "source": [
    "import torch\n",
    "import torch.optim as optim\n",
    "import torch.nn as nn\n",
    "import torch.nn.functional as F\n",
    "import numpy as np\n",
    "import matplotlib.pyplot as plt\n",
    "%matplotlib inline"
   ]
  },
  {
   "cell_type": "code",
   "execution_count": 2,
   "metadata": {},
   "outputs": [],
   "source": [
    "class Net(nn.Module):\n",
    "    def __init__(self):\n",
    "        super(Net, self).__init__()\n",
    "        # fc: full connetion\n",
    "        self.fc1 = nn.Linear(1, 64) # bias is needed for complex net, bias=True is default\n",
    "        self.fc2 = nn.Linear(64, 1)\n",
    "\n",
    "    def forward(self, x):\n",
    "        out = self.fc1(x)\n",
    "        out = F.relu(out)\n",
    "        out = self.fc2(out)\n",
    "        return out"
   ]
  },
  {
   "cell_type": "code",
   "execution_count": 3,
   "metadata": {},
   "outputs": [],
   "source": [
    "x_1 = np.linspace(-10, 10, 1000)\n",
    "x_2 = x_1 ** 2\n",
    "x_0 = x_1 ** 0\n",
    "\n",
    "X = np.concatenate((x_2[None, :], # [] => [[]]\n",
    "                    x_1[None, :],\n",
    "                    x_0[None, :]), axis=0).T\n",
    "y = np.dot(X, np.array([6, 3, 4]))"
   ]
  },
  {
   "cell_type": "code",
   "execution_count": 4,
   "metadata": {},
   "outputs": [
    {
     "data": {
      "text/plain": [
       "[Parameter containing:\n",
       " tensor([[ 0.5113],\n",
       "         [ 0.5662],\n",
       "         [ 0.9357],\n",
       "         [-0.6608],\n",
       "         [-0.4088],\n",
       "         [ 0.1582],\n",
       "         [ 0.1149],\n",
       "         [-0.5763],\n",
       "         [-0.2341],\n",
       "         [-0.7601],\n",
       "         [-0.9818],\n",
       "         [-0.1971],\n",
       "         [ 0.2181],\n",
       "         [-0.1716],\n",
       "         [ 0.6594],\n",
       "         [-0.4740],\n",
       "         [ 0.7717],\n",
       "         [-0.8246],\n",
       "         [-0.5192],\n",
       "         [ 0.9499],\n",
       "         [-0.1634],\n",
       "         [-0.2786],\n",
       "         [-0.4598],\n",
       "         [-0.1565],\n",
       "         [ 0.9396],\n",
       "         [-0.5233],\n",
       "         [ 0.4405],\n",
       "         [-0.7285],\n",
       "         [ 0.4622],\n",
       "         [ 0.8464],\n",
       "         [-0.0576],\n",
       "         [-0.3567],\n",
       "         [-0.3613],\n",
       "         [ 0.9551],\n",
       "         [ 0.9131],\n",
       "         [ 0.9828],\n",
       "         [-0.3887],\n",
       "         [-0.7227],\n",
       "         [-0.7580],\n",
       "         [-0.0362],\n",
       "         [ 0.9720],\n",
       "         [-0.3951],\n",
       "         [-0.9431],\n",
       "         [-0.3705],\n",
       "         [ 0.1697],\n",
       "         [-0.9573],\n",
       "         [ 0.6615],\n",
       "         [ 0.1957],\n",
       "         [ 0.4114],\n",
       "         [ 0.3349],\n",
       "         [ 0.1312],\n",
       "         [-0.4802],\n",
       "         [ 0.7545],\n",
       "         [ 0.9645],\n",
       "         [-0.2213],\n",
       "         [ 0.5684],\n",
       "         [ 0.2459],\n",
       "         [-0.3033],\n",
       "         [-0.2120],\n",
       "         [-0.3492],\n",
       "         [ 0.8832],\n",
       "         [-0.6526],\n",
       "         [-0.3038],\n",
       "         [-0.8996]], requires_grad=True), Parameter containing:\n",
       " tensor([-0.9572, -0.1823, -0.6044, -0.1581, -0.6144,  0.1304,  0.1831,  0.6913,\n",
       "         -0.5405, -0.1789,  0.5812, -0.1363, -0.7048, -0.9350,  0.0523, -0.9367,\n",
       "          0.8427,  0.0039,  0.4780, -0.2891, -0.7950, -0.2867, -0.3979,  0.0516,\n",
       "          0.9948,  0.1095, -0.8314, -0.3500, -0.1661,  0.4501,  0.2206, -0.7613,\n",
       "         -0.6582, -0.5495, -0.9478,  0.8809,  0.5374,  0.5404, -0.1397,  0.8145,\n",
       "         -0.6994, -0.9291,  0.0733,  0.3047,  0.1937,  0.5756,  0.4748,  0.2000,\n",
       "         -0.3789, -0.3958,  0.5602, -0.4598,  0.1221,  0.2625, -0.5186, -0.9808,\n",
       "         -0.2019,  0.9807, -0.8105, -0.2654, -0.4306, -0.0322,  0.5807, -0.2735],\n",
       "        requires_grad=True), Parameter containing:\n",
       " tensor([[-0.0232,  0.0834, -0.0522, -0.0559,  0.1176, -0.1068, -0.0515, -0.0212,\n",
       "          -0.1121,  0.0754, -0.0421,  0.0767, -0.0264,  0.0879, -0.0838, -0.0967,\n",
       "          -0.0945,  0.0427,  0.1181,  0.0633,  0.0786, -0.0115,  0.0595, -0.0823,\n",
       "           0.0313,  0.0782, -0.0354, -0.0061, -0.0293,  0.0924, -0.0441,  0.0097,\n",
       "          -0.0006,  0.1068, -0.0252, -0.0990, -0.0259, -0.1155, -0.0131,  0.0569,\n",
       "          -0.0723, -0.0782,  0.0756,  0.0629, -0.0522,  0.0814, -0.0497,  0.0678,\n",
       "           0.0194, -0.0175, -0.1020,  0.0899, -0.0275,  0.0308,  0.0958, -0.0427,\n",
       "          -0.0706, -0.0556,  0.0920, -0.0206, -0.0870,  0.0258,  0.0298,  0.0995]],\n",
       "        requires_grad=True), Parameter containing:\n",
       " tensor([0.0791], requires_grad=True)]"
      ]
     },
     "execution_count": 4,
     "metadata": {},
     "output_type": "execute_result"
    }
   ],
   "source": [
    "net = Net()\n",
    "list(net.parameters())"
   ]
  },
  {
   "cell_type": "code",
   "execution_count": 5,
   "metadata": {},
   "outputs": [],
   "source": [
    "X = torch.tensor(X[:, None, 1], dtype=torch.float32) # convert ndarray X to tensor\n",
    "y = torch.tensor(y, dtype=torch.float32)"
   ]
  },
  {
   "cell_type": "code",
   "execution_count": 6,
   "metadata": {},
   "outputs": [],
   "source": [
    "loss_function = nn.MSELoss()\n",
    "optimizer = optim.RMSprop(net.parameters(), lr=1e-2)"
   ]
  },
  {
   "cell_type": "code",
   "execution_count": 7,
   "metadata": {},
   "outputs": [
    {
     "name": "stdout",
     "output_type": "stream",
     "text": [
      "tensor(74157.1875, grad_fn=<MseLossBackward>)\n",
      "tensor(4108.6885, grad_fn=<MseLossBackward>)\n",
      "tensor(2770.2805, grad_fn=<MseLossBackward>)\n",
      "tensor(1700.1360, grad_fn=<MseLossBackward>)\n",
      "tensor(916.1312, grad_fn=<MseLossBackward>)\n",
      "tensor(458.1440, grad_fn=<MseLossBackward>)\n",
      "tensor(230.9488, grad_fn=<MseLossBackward>)\n",
      "tensor(114.0109, grad_fn=<MseLossBackward>)\n",
      "tensor(68.2591, grad_fn=<MseLossBackward>)\n",
      "tensor(41.5792, grad_fn=<MseLossBackward>)\n",
      "tensor(27.6773, grad_fn=<MseLossBackward>)\n",
      "tensor(22.3352, grad_fn=<MseLossBackward>)\n",
      "tensor(18.1886, grad_fn=<MseLossBackward>)\n",
      "tensor(15.3461, grad_fn=<MseLossBackward>)\n",
      "tensor(13.9660, grad_fn=<MseLossBackward>)\n",
      "tensor(13.0039, grad_fn=<MseLossBackward>)\n",
      "tensor(12.1523, grad_fn=<MseLossBackward>)\n",
      "tensor(11.7908, grad_fn=<MseLossBackward>)\n",
      "tensor(11.4232, grad_fn=<MseLossBackward>)\n",
      "tensor(11.1000, grad_fn=<MseLossBackward>)\n",
      "tensor(10.9679, grad_fn=<MseLossBackward>)\n",
      "tensor(10.7917, grad_fn=<MseLossBackward>)\n",
      "tensor(10.7166, grad_fn=<MseLossBackward>)\n",
      "tensor(10.5383, grad_fn=<MseLossBackward>)\n",
      "tensor(10.4168, grad_fn=<MseLossBackward>)\n",
      "tensor(10.3303, grad_fn=<MseLossBackward>)\n",
      "tensor(10.2986, grad_fn=<MseLossBackward>)\n",
      "tensor(10.2748, grad_fn=<MseLossBackward>)\n",
      "tensor(10.2150, grad_fn=<MseLossBackward>)\n",
      "tensor(10.1295, grad_fn=<MseLossBackward>)\n",
      "tensor(10.1356, grad_fn=<MseLossBackward>)\n",
      "tensor(10.1445, grad_fn=<MseLossBackward>)\n",
      "tensor(10.1532, grad_fn=<MseLossBackward>)\n",
      "tensor(9.9835, grad_fn=<MseLossBackward>)\n",
      "tensor(10.0582, grad_fn=<MseLossBackward>)\n",
      "tensor(10.0310, grad_fn=<MseLossBackward>)\n",
      "tensor(9.9833, grad_fn=<MseLossBackward>)\n",
      "tensor(9.9755, grad_fn=<MseLossBackward>)\n",
      "tensor(9.9598, grad_fn=<MseLossBackward>)\n",
      "tensor(9.8779, grad_fn=<MseLossBackward>)\n"
     ]
    },
    {
     "data": {
      "image/png": "[encoded data removed]",
      "text/plain": [
       "<Figure size 432x288 with 1 Axes>"
      ]
     },
     "metadata": {},
     "output_type": "display_data"
    }
   ],
   "source": [
    "for t in range(4000):\n",
    "    net.zero_grad()\n",
    "    y_hat = net(X)\n",
    "    loss = loss_function(y_hat.squeeze(1), y) # (input, target)\n",
    "    loss.backward()\n",
    "    optimizer.step()\n",
    "    \n",
    "    if t % 100 == 0:\n",
    "        print(loss)\n",
    "        plt.clf()\n",
    "        y_hat_np = y_hat.detach().numpy() # detach减去y_hat的梯度\n",
    "        plt.plot(y_hat_np)\n",
    "        plt.plot(y.numpy())"
   ]
  },
  {
   "cell_type": "code",
   "execution_count": null,
   "metadata": {},
   "outputs": [],
   "source": [
    "x_test_1 = np.linspace(-20, -10, 1000)\n",
    "x_test_2 = x_test_1 ** 2\n",
    "x_test_0 = x_test_1 ** 0\n",
    "\n",
    "X_test = np.concatenate((x_test_2[None, :], # [] => [[]]\n",
    "                    x_test_1[None, :],\n",
    "                    x_test_0[None, :]), axis=0).T\n",
    "y_test = np.dot(X_test, np.array([6, 3, 4]))\n",
    "\n",
    "X_test = torch.tensor(X_test[:, None, 1], dtype=torch.float32)\n",
    "y_test = torch.tensor(y_test, dtype=torch.float32)\n",
    "                             \n",
    "y_test_hat = net(X_test)"
   ]
  },
  {
   "cell_type": "code",
   "execution_count": null,
   "metadata": {},
   "outputs": [],
   "source": []
  }
 ],
 "metadata": {
  "kernelspec": {
   "display_name": "Python 3",
   "language": "python",
   "name": "python3"
  },
  "language_info": {
   "codemirror_mode": {
    "name": "ipython",
    "version": 3
   },
   "file_extension": ".py",
   "mimetype": "text/x-python",
   "name": "python",
   "nbconvert_exporter": "python",
   "pygments_lexer": "ipython3",
   "version": "3.6.4"
  }
 },
 "nbformat": 4,
 "nbformat_minor": 2
}
