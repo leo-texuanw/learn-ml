{
 "cells": [
  {
   "cell_type": "markdown",
   "metadata": {},
   "source": [
    "# Tensor basics"
   ]
  },
  {
   "cell_type": "code",
   "execution_count": 1,
   "metadata": {},
   "outputs": [],
   "source": [
    "import numpy as np\n",
    "import torch"
   ]
  },
  {
   "cell_type": "code",
   "execution_count": 2,
   "metadata": {},
   "outputs": [
    {
     "name": "stdout",
     "output_type": "stream",
     "text": [
      "Type: torch.FloatTensor\n",
      "Size: torch.Size([3, 4])\n",
      "Values: \n",
      "tensor([[-2.4936e-11,  3.0613e-41,  3.7835e-44,  0.0000e+00],\n",
      "        [        nan,  0.0000e+00,  1.3733e-14,  6.4069e+02],\n",
      "        [ 4.3066e+21,  1.1824e+22,  4.3066e+21,  6.3828e+28]])\n",
      "Type: torch.FloatTensor\n",
      "Size: torch.Size([3, 4])\n",
      "Values: \n",
      "tensor([[-2.4936e-11,  3.0613e-41,  3.7835e-44,  0.0000e+00],\n",
      "        [        nan,  0.0000e+00,  1.3733e-14,  6.4069e+02],\n",
      "        [ 4.3066e+21,  1.1824e+22,  4.3066e+21,  6.3828e+28]])\n"
     ]
    }
   ],
   "source": [
    "# Creating a zero tensor\n",
    "x = torch.Tensor(3,4)\n",
    "print(\"Type: {}\".format(x.type()))\n",
    "print(\"Size: {}\".format(x.shape))\n",
    "print(\"Values: \\n{}\".format(x))"
   ]
  },
  {
   "cell_type": "code",
   "execution_count": 3,
   "metadata": {},
   "outputs": [
    {
     "name": "stdout",
     "output_type": "stream",
     "text": [
      "tensor([[-2.0768,  1.1542,  0.3903],\n",
      "        [ 0.2189, -0.4617, -1.1241]])\n",
      "tensor([[-2.0768,  1.1542,  0.3903],\n",
      "        [ 0.2189, -0.4617, -1.1241]])\n"
     ]
    }
   ],
   "source": [
    "# Creating a random tensor\n",
    "x = torch.randn(2,3) # normal distribution (rand(2,3)) -> uniform distribution\n",
    "print(x)"
   ]
  },
  {
   "cell_type": "code",
   "execution_count": 4,
   "metadata": {},
   "outputs": [
    {
     "name": "stdout",
     "output_type": "stream",
     "text": [
      "tensor([[0., 0., 0.],\n",
      "        [0., 0., 0.]])\n",
      "tensor([[1., 1., 1.],\n",
      "        [1., 1., 1.]])\n",
      "tensor([[0., 0., 0.],\n",
      "        [0., 0., 0.]])\n",
      "tensor([[1., 1., 1.],\n",
      "        [1., 1., 1.]])\n"
     ]
    }
   ],
   "source": [
    "# Zero and Ones tensor\n",
    "x = torch.zeros(2,3)\n",
    "print(x)\n",
    "x = torch.ones(2,3)\n",
    "print(x)"
   ]
  },
  {
   "cell_type": "code",
   "execution_count": 5,
   "metadata": {},
   "outputs": [
    {
     "name": "stdout",
     "output_type": "stream",
     "text": [
      "Size: torch.Size([2, 3])\n",
      "Values: \n",
      "tensor([[1., 2., 3.],\n",
      "        [4., 5., 6.]])\n",
      "Size: torch.Size([2, 3])\n",
      "Values: \n",
      "tensor([[1., 2., 3.],\n",
      "        [4., 5., 6.]])\n"
     ]
    }
   ],
   "source": [
    "# List -> Tensor\n",
    "x = torch.Tensor([[1,2,3], [4,5,6]])\n",
    "print(\"Size: {}\".format(x.shape))\n",
    "print(\"Values: \\n{}\".format(x))"
   ]
  },
  {
   "cell_type": "code",
   "execution_count": 6,
   "metadata": {},
   "outputs": [
    {
     "name": "stdout",
     "output_type": "stream",
     "text": [
      "Size: torch.Size([2, 3])\n",
      "Values: \n",
      "tensor([[0.4199, 0.0583, 0.1107],\n",
      "        [0.7285, 0.3118, 0.2102]], dtype=torch.float64)\n",
      "Size: torch.Size([2, 3])\n",
      "Values: \n",
      "tensor([[0.4199, 0.0583, 0.1107],\n",
      "        [0.7285, 0.3118, 0.2102]], dtype=torch.float64)\n"
     ]
    }
   ],
   "source": [
    "# Numpy array -> Tensor\n",
    "x = torch.from_numpy(np.random.rand(2,3))\n",
    "print(\"Size: {}\".format(x.shape))\n",
    "print(\"Values: \\n{}\".format(x))"
   ]
  },
  {
   "cell_type": "code",
   "execution_count": 7,
   "metadata": {},
   "outputs": [
    {
     "name": "stdout",
     "output_type": "stream",
     "text": [
      "Type: torch.FloatTensor\n",
      "Type: torch.LongTensor\n",
      "Type: torch.FloatTensor\n",
      "Type: torch.LongTensor\n"
     ]
    }
   ],
   "source": [
    "# Changing tensor type\n",
    "x = torch.Tensor(3,4)\n",
    "print(\"Type: {}\".format(x.type()))\n",
    "x = x.long()\n",
    "print(\"Type: {}\".format(x.type()))"
   ]
  },
  {
   "cell_type": "markdown",
   "metadata": {},
   "source": [
    "# Tensor operations"
   ]
  },
  {
   "cell_type": "code",
   "execution_count": 8,
   "metadata": {},
   "outputs": [
    {
     "name": "stdout",
     "output_type": "stream",
     "text": [
      "Size: torch.Size([2, 3])\n",
      "Value: \n",
      "tensor([[-2.1521, -1.2999, -0.6167],\n",
      "        [-0.0699,  3.0386, -1.3612]])\n",
      "Size: torch.Size([2, 3])\n",
      "Value: \n",
      "tensor([[-2.1521, -1.2999, -0.6167],\n",
      "        [-0.0699,  3.0386, -1.3612]])\n"
     ]
    }
   ],
   "source": [
    "# Addition\n",
    "x = torch.randn(2,3)\n",
    "y = torch.randn(2,3)\n",
    "z = x + y\n",
    "print(\"Size: {}\".format(z.shape))\n",
    "print(\"Value: \\n{}\".format(z))"
   ]
  },
  {
   "cell_type": "code",
   "execution_count": 9,
   "metadata": {},
   "outputs": [
    {
     "name": "stdout",
     "output_type": "stream",
     "text": [
      "Size: torch.Size([2, 2])\n",
      "Values: \n",
      "tensor([[ 2.2952,  2.0702],\n",
      "        [-0.6496, -2.1318]])\n",
      "Size: torch.Size([2, 2])\n",
      "Values: \n",
      "tensor([[ 2.2952,  2.0702],\n",
      "        [-0.6496, -2.1318]])\n"
     ]
    }
   ],
   "source": [
    "# Dot product\n",
    "x = torch.randn(2, 3)\n",
    "y = torch.randn(3, 2)\n",
    "z = torch.mm(x, y)\n",
    "print(\"Size: {}\".format(z.shape))\n",
    "print(\"Values: \\n{}\".format(z))"
   ]
  },
  {
   "cell_type": "code",
   "execution_count": 10,
   "metadata": {},
   "outputs": [
    {
     "name": "stdout",
     "output_type": "stream",
     "text": [
      "Size: torch.Size([2, 3])\n",
      "Values: \n",
      "tensor([[ 0.8923,  2.3638, -0.2916],\n",
      "        [-2.2573, -0.9194,  1.2611]])\n",
      "\n",
      "Size: torch.Size([3, 2])\n",
      "Values: \n",
      "tensor([[ 0.8923, -2.2573],\n",
      "        [ 2.3638, -0.9194],\n",
      "        [-0.2916,  1.2611]])\n",
      "Size: torch.Size([2, 3])\n",
      "Values: \n",
      "tensor([[ 0.8923,  2.3638, -0.2916],\n",
      "        [-2.2573, -0.9194,  1.2611]])\n",
      "\n",
      "Size: torch.Size([3, 2])\n",
      "Values: \n",
      "tensor([[ 0.8923, -2.2573],\n",
      "        [ 2.3638, -0.9194],\n",
      "        [-0.2916,  1.2611]])\n"
     ]
    }
   ],
   "source": [
    "# Transpose\n",
    "x = torch.randn(2,3)\n",
    "print(\"Size: {}\".format(x.shape))\n",
    "print(\"Values: \\n{}\".format(x))\n",
    "y = torch.t(x)\n",
    "y = x.t()\n",
    "print(\"\\nSize: {}\".format(y.shape))\n",
    "print(\"Values: \\n{}\".format(y))"
   ]
  },
  {
   "cell_type": "code",
   "execution_count": 11,
   "metadata": {},
   "outputs": [
    {
     "name": "stdout",
     "output_type": "stream",
     "text": [
      "Size: torch.Size([3, 2])\n",
      "Values: \n",
      "tensor([[ 0.8923,  2.3638],\n",
      "        [-0.2916, -2.2573],\n",
      "        [-0.9194,  1.2611]])\n",
      "Size: torch.Size([3, 2])\n",
      "Values: \n",
      "tensor([[ 0.8923,  2.3638],\n",
      "        [-0.2916, -2.2573],\n",
      "        [-0.9194,  1.2611]])\n"
     ]
    }
   ],
   "source": [
    "# Reshape\n",
    "z = x.view(3, 2)\n",
    "print(\"Size: {}\".format(z.shape))\n",
    "print(\"Values: \\n{}\".format(z))"
   ]
  },
  {
   "cell_type": "code",
   "execution_count": 12,
   "metadata": {},
   "outputs": [
    {
     "name": "stdout",
     "output_type": "stream",
     "text": [
      "Size: torch.Size([2, 3, 4])\n",
      "Values: \n",
      "tensor([[[ 1,  1,  1,  1],\n",
      "         [ 2,  2,  2,  2],\n",
      "         [ 3,  3,  3,  3]],\n",
      "\n",
      "        [[10, 10, 10, 10],\n",
      "         [20, 20, 20, 20],\n",
      "         [30, 30, 30, 30]]])\n",
      "\n",
      "Size: torch.Size([2, 3, 4])\n",
      "Values: \n",
      "tensor([[[ 1,  1,  1,  1],\n",
      "         [ 2,  2,  2,  2],\n",
      "         [ 3,  3,  3,  3]],\n",
      "\n",
      "        [[10, 10, 10, 10],\n",
      "         [20, 20, 20, 20],\n",
      "         [30, 30, 30, 30]]])\n",
      "\n"
     ]
    }
   ],
   "source": [
    "# Dangers of reshaping (unintended consequences)\n",
    "x = torch.tensor([\n",
    "    [[1,1,1,1], [2,2,2,2], [3,3,3,3]],\n",
    "    [[10,10,10,10], [20,20,20,20], [30,30,30,30]]\n",
    "])\n",
    "print(\"Size: {}\".format(x.shape))\n",
    "print(\"Values: \\n{}\\n\".format(x))"
   ]
  },
  {
   "cell_type": "code",
   "execution_count": 13,
   "metadata": {},
   "outputs": [
    {
     "name": "stdout",
     "output_type": "stream",
     "text": [
      "Size: torch.Size([3, 8])\n",
      "Values: \n",
      "tensor([[ 1,  1,  1,  1,  2,  2,  2,  2],\n",
      "        [ 3,  3,  3,  3, 10, 10, 10, 10],\n",
      "        [20, 20, 20, 20, 30, 30, 30, 30]])\n",
      "\n",
      "Size: torch.Size([3, 8])\n",
      "Values: \n",
      "tensor([[ 1,  1,  1,  1,  2,  2,  2,  2],\n",
      "        [ 3,  3,  3,  3, 10, 10, 10, 10],\n",
      "        [20, 20, 20, 20, 30, 30, 30, 30]])\n",
      "\n"
     ]
    }
   ],
   "source": [
    "a = x.view(x.size(1), -1) # (dim, dim)\n",
    "print(\"Size: {}\".format(a.shape))\n",
    "print(\"Values: \\n{}\\n\".format(a))"
   ]
  },
  {
   "cell_type": "code",
   "execution_count": 14,
   "metadata": {},
   "outputs": [
    {
     "name": "stdout",
     "output_type": "stream",
     "text": [
      "Size: torch.Size([3, 2, 4])\n",
      "Values: \n",
      "tensor([[[ 1,  1,  1,  1],\n",
      "         [10, 10, 10, 10]],\n",
      "\n",
      "        [[ 2,  2,  2,  2],\n",
      "         [20, 20, 20, 20]],\n",
      "\n",
      "        [[ 3,  3,  3,  3],\n",
      "         [30, 30, 30, 30]]])\n",
      "\n",
      "Size: torch.Size([3, 2, 4])\n",
      "Values: \n",
      "tensor([[[ 1,  1,  1,  1],\n",
      "         [10, 10, 10, 10]],\n",
      "\n",
      "        [[ 2,  2,  2,  2],\n",
      "         [20, 20, 20, 20]],\n",
      "\n",
      "        [[ 3,  3,  3,  3],\n",
      "         [30, 30, 30, 30]]])\n",
      "\n"
     ]
    }
   ],
   "source": [
    "b = x.transpose(0, 1).contiguous()\n",
    "print(\"Size: {}\".format(b.shape))\n",
    "print(\"Values: \\n{}\\n\".format(b))"
   ]
  },
  {
   "cell_type": "code",
   "execution_count": 15,
   "metadata": {},
   "outputs": [
    {
     "name": "stdout",
     "output_type": "stream",
     "text": [
      "Size: torch.Size([3, 8])\n",
      "Values: \n",
      "tensor([[ 1,  1,  1,  1, 10, 10, 10, 10],\n",
      "        [ 2,  2,  2,  2, 20, 20, 20, 20],\n",
      "        [ 3,  3,  3,  3, 30, 30, 30, 30]])\n",
      "\n",
      "Size: torch.Size([3, 8])\n",
      "Values: \n",
      "tensor([[ 1,  1,  1,  1, 10, 10, 10, 10],\n",
      "        [ 2,  2,  2,  2, 20, 20, 20, 20],\n",
      "        [ 3,  3,  3,  3, 30, 30, 30, 30]])\n",
      "\n"
     ]
    }
   ],
   "source": [
    "c = b.view(b.size(0), -1)\n",
    "print(\"Size: {}\".format(c.shape))\n",
    "print(\"Values: \\n{}\\n\".format(c))"
   ]
  },
  {
   "cell_type": "code",
   "execution_count": 16,
   "metadata": {},
   "outputs": [
    {
     "name": "stdout",
     "output_type": "stream",
     "text": [
      "Values: \n",
      "tensor([[-0.6929, -0.0178, -0.9300],\n",
      "        [-2.6205,  1.6327, -0.8500]])\n",
      "Values: \n",
      "tensor([-3.3134,  1.6149, -1.7800])\n",
      "Values: \n",
      "tensor([-1.6407, -1.8378])\n",
      "Values: \n",
      "tensor([[-0.6929, -0.0178, -0.9300],\n",
      "        [-2.6205,  1.6327, -0.8500]])\n",
      "Values: \n",
      "tensor([-3.3134,  1.6149, -1.7800])\n",
      "Values: \n",
      "tensor([-1.6407, -1.8378])\n"
     ]
    }
   ],
   "source": [
    "# Dimensional operations\n",
    "x = torch.randn(2,3)\n",
    "print(\"Values: \\n{}\".format(x))\n",
    "y = torch.sum(x, dim=0) # add each row's values for every column\n",
    "print(\"Values: \\n{}\".format(y)) # column's\n",
    "z = torch.sum(x, dim=1)\n",
    "print(\"Values: \\n{}\".format(z))"
   ]
  },
  {
   "cell_type": "markdown",
   "metadata": {},
   "source": [
    "# Indexing, Splicing and Joining"
   ]
  },
  {
   "cell_type": "code",
   "execution_count": 17,
   "metadata": {},
   "outputs": [
    {
     "name": "stdout",
     "output_type": "stream",
     "text": [
      "Values: \n",
      "tensor([[-0.3340, -1.3207, -0.1028],\n",
      "        [ 0.7539,  0.9419,  0.0532]])\n",
      "Values: \n",
      "tensor([[-0.3340, -0.1028],\n",
      "        [ 0.7539,  0.0532]])\n",
      "Values: \n",
      "tensor([-0.3340,  0.0532])\n",
      "Values: \n",
      "tensor([[-0.3340, -1.3207, -0.1028],\n",
      "        [ 0.7539,  0.9419,  0.0532]])\n",
      "Values: \n",
      "tensor([[-0.3340, -0.1028],\n",
      "        [ 0.7539,  0.0532]])\n",
      "Values: \n",
      "tensor([-0.3340,  0.0532])\n"
     ]
    }
   ],
   "source": [
    "# Select with dimensional indicies\n",
    "x = torch.randn(2,3)\n",
    "print(\"Values: \\n{}\".format(x))\n",
    "\n",
    "col_indices = torch.LongTensor([0, 2])\n",
    "chosen = torch.index_select(x, dim=1, index=col_indices) # values from column 0 & 2\n",
    "print(\"Values: \\n{}\".format(chosen))\n",
    "\n",
    "row_indices = torch.LongTensor([0, 1])\n",
    "chosen = x[row_indices, col_indices]\n",
    "print(\"Values: \\n{}\".format(chosen))"
   ]
  },
  {
   "cell_type": "code",
   "execution_count": 18,
   "metadata": {},
   "outputs": [
    {
     "name": "stdout",
     "output_type": "stream",
     "text": [
      "Values: \n",
      "tensor([[ 0.3630,  1.5609, -0.6112],\n",
      "        [ 0.7135,  0.1509, -1.4686]])\n",
      "Values: \n",
      "tensor([[ 0.3630,  1.5609, -0.6112],\n",
      "        [ 0.7135,  0.1509, -1.4686],\n",
      "        [ 0.3630,  1.5609, -0.6112],\n",
      "        [ 0.7135,  0.1509, -1.4686]])\n",
      "Values: \n",
      "tensor([[ 0.3630,  1.5609, -0.6112],\n",
      "        [ 0.7135,  0.1509, -1.4686]])\n",
      "Values: \n",
      "tensor([[ 0.3630,  1.5609, -0.6112],\n",
      "        [ 0.7135,  0.1509, -1.4686],\n",
      "        [ 0.3630,  1.5609, -0.6112],\n",
      "        [ 0.7135,  0.1509, -1.4686]])\n"
     ]
    }
   ],
   "source": [
    "# Concatenation\n",
    "x = torch.randn(2,3)\n",
    "print(\"Values: \\n{}\".format(x))\n",
    "y = torch.cat([x, x], dim=0)\n",
    "print(\"Values: \\n{}\".format(y))"
   ]
  },
  {
   "cell_type": "markdown",
   "metadata": {},
   "source": [
    "# Gradients"
   ]
  },
  {
   "cell_type": "code",
   "execution_count": 19,
   "metadata": {},
   "outputs": [
    {
     "name": "stdout",
     "output_type": "stream",
     "text": [
      "Values: \n",
      "tensor([[0.4098, 0.8093, 0.3017, 0.7174],\n",
      "        [0.1455, 0.9120, 0.8315, 0.4554],\n",
      "        [0.3838, 0.7130, 0.3170, 0.0651]], requires_grad=True)\n",
      "x.grad: \n",
      " tensor([[0.2500, 0.2500, 0.2500, 0.2500],\n",
      "        [0.2500, 0.2500, 0.2500, 0.2500],\n",
      "        [0.2500, 0.2500, 0.2500, 0.2500]])\n",
      "Values: \n",
      "tensor([[0.4098, 0.8093, 0.3017, 0.7174],\n",
      "        [0.1455, 0.9120, 0.8315, 0.4554],\n",
      "        [0.3838, 0.7130, 0.3170, 0.0651]], requires_grad=True)\n",
      "x.grad: \n",
      " tensor([[0.2500, 0.2500, 0.2500, 0.2500],\n",
      "        [0.2500, 0.2500, 0.2500, 0.2500],\n",
      "        [0.2500, 0.2500, 0.2500, 0.2500]])\n"
     ]
    }
   ],
   "source": [
    "# Tensors with gradient bookkeeping\n",
    "x = torch.rand(3, 4, requires_grad=True)\n",
    "y = 3*x + 2\n",
    "z = y.mean()\n",
    "z.backward() # z has to be scalar\n",
    "print(\"Values: \\n{}\".format(x))\n",
    "print(\"x.grad: \\n\", x.grad)"
   ]
  },
  {
   "cell_type": "markdown",
   "metadata": {},
   "source": [
    "- $ y = 3x + 2 $\n",
    "- $ z = \\frac{\\sum y}{N} $\n",
    "- $ \\frac{\\partial z}{\\partial x} =\\frac{\\partial z}{\\partial y}\\frac{\\partial y}{\\partial x} = \\frac{1}{N}*3 = \\frac{1}{12} * 3 = 0.25 $"
   ]
  },
  {
   "cell_type": "markdown",
   "metadata": {},
   "source": [
    "# CUDA tensors"
   ]
  },
  {
   "cell_type": "code",
   "execution_count": 20,
   "metadata": {},
   "outputs": [
    {
     "name": "stdout",
     "output_type": "stream",
     "text": [
      "True\n",
      "True\n"
     ]
    }
   ],
   "source": [
    "# Is CUDA available?\n",
    "print(torch.cuda.is_available())"
   ]
  },
  {
   "cell_type": "code",
   "execution_count": 21,
   "metadata": {},
   "outputs": [
    {
     "name": "stdout",
     "output_type": "stream",
     "text": [
      "Type: torch.FloatTensor\n",
      "Type: torch.FloatTensor\n"
     ]
    }
   ],
   "source": [
    "# Creating a zero tensor\n",
    "x = torch.Tensor(3,4).to(\"cpu\")\n",
    "print(\"Type: {}\".format(x.type()))"
   ]
  },
  {
   "cell_type": "code",
   "execution_count": 22,
   "metadata": {},
   "outputs": [
    {
     "name": "stdout",
     "output_type": "stream",
     "text": [
      "Type: torch.cuda.FloatTensor\n",
      "Type: torch.cuda.FloatTensor\n"
     ]
    }
   ],
   "source": [
    "# Creating a zero tensor\n",
    "x = torch.Tensor(3,4).to(\"cuda\")\n",
    "print(\"Type: {}\".format(x.type()))"
   ]
  },
  {
   "cell_type": "code",
   "execution_count": null,
   "metadata": {},
   "outputs": [],
   "source": []
  }
 ],
 "metadata": {
  "kernelspec": {
   "display_name": "conda-py3.7",
   "language": "python",
   "name": "conda-py3.7"
  },
  "language_info": {
   "codemirror_mode": {
    "name": "ipython",
    "version": 3
   },
   "file_extension": ".py",
   "mimetype": "text/x-python",
   "name": "python",
   "nbconvert_exporter": "python",
   "pygments_lexer": "ipython3",
   "version": "3.7.1"
  }
 },
 "nbformat": 4,
 "nbformat_minor": 2
}
