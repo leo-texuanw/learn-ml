{
 "cells": [
  {
   "cell_type": "code",
   "execution_count": 1,
   "metadata": {},
   "outputs": [
    {
     "name": "stderr",
     "output_type": "stream",
     "text": [
      "Using TensorFlow backend.\n"
     ]
    }
   ],
   "source": [
    "from argparse import Namespace\n",
    "import numpy as np\n",
    "\n",
    "from keras.datasets import mnist\n",
    "from keras.utils import np_utils\n",
    "from keras.models import Sequential\n",
    "from keras.layers import Dense, Activation\n",
    "from keras.optimizers import RMSprop"
   ]
  },
  {
   "cell_type": "code",
   "execution_count": 2,
   "metadata": {},
   "outputs": [],
   "source": [
    "np.random.seed(1337)\n",
    "\n",
    "args = Namespace(\n",
    "    input_dim = 784,  # 28 * 28\n",
    "    lr = 0.001,\n",
    "    epoches = 2,\n",
    "    batch_size = 32,\n",
    ")"
   ]
  },
  {
   "cell_type": "code",
   "execution_count": 3,
   "metadata": {},
   "outputs": [],
   "source": [
    "def load_data():\n",
    "    (X_train, y_train), (X_test, y_test) = mnist.load_data()\n",
    "    print(len(X_train), X_train.shape, y_train.shape)\n",
    "    print(len(y_test), set(y_test))\n",
    "    \n",
    "    X_train = X_train.reshape(X_train.shape[0], -1) / 255  # normalize\n",
    "    X_test = X_test.reshape(X_test.shape[0], -1) / 255  # normalize\n",
    "    y_train = np_utils.to_categorical(y_train, num_classes=10)  # scatter to one-hot\n",
    "    y_test = np_utils.to_categorical(y_test, num_classes=10)  # scatter to one-hot\n",
    "    print(X_train.shape, y_train.shape)\n",
    "    \n",
    "    return X_train, y_train, X_test, y_test"
   ]
  },
  {
   "cell_type": "code",
   "execution_count": 4,
   "metadata": {},
   "outputs": [],
   "source": [
    "def load_model(args):\n",
    "    model = Sequential([\n",
    "        Dense(32, input_dim=args.input_dim),\n",
    "        Activation('relu'),\n",
    "        Dense(10),\n",
    "        Activation('softmax')\n",
    "    ])\n",
    "    \n",
    "    return model"
   ]
  },
  {
   "cell_type": "code",
   "execution_count": 5,
   "metadata": {},
   "outputs": [],
   "source": [
    "def train(model, X_train, y_train, args):\n",
    "    print(\"Training\", '-' * 10)\n",
    "    model.fit(X_train, y_train, nb_epoch=args.epoches, batch_size=args.batch_size)\n",
    "    \n",
    "    return model"
   ]
  },
  {
   "cell_type": "code",
   "execution_count": 6,
   "metadata": {},
   "outputs": [],
   "source": [
    "def test(model, X_test, y_test, args):\n",
    "    loss, acc = model.evaluate(X_test, y_test)\n",
    "    print('test loss:', loss)\n",
    "    print('test accuracy:', acc)"
   ]
  },
  {
   "cell_type": "code",
   "execution_count": 7,
   "metadata": {},
   "outputs": [
    {
     "name": "stdout",
     "output_type": "stream",
     "text": [
      "60000 (60000, 28, 28) (60000,)\n",
      "10000 {0, 1, 2, 3, 4, 5, 6, 7, 8, 9}\n",
      "(60000, 784) (60000, 10)\n"
     ]
    }
   ],
   "source": [
    "X_train, y_train, X_test, y_test = load_data()"
   ]
  },
  {
   "cell_type": "code",
   "execution_count": 8,
   "metadata": {},
   "outputs": [
    {
     "name": "stdout",
     "output_type": "stream",
     "text": [
      "WARNING:tensorflow:From /home/texuanw/softwares/anaconda3/lib/python3.6/site-packages/tensorflow/python/framework/op_def_library.py:263: colocate_with (from tensorflow.python.framework.ops) is deprecated and will be removed in a future version.\n",
      "Instructions for updating:\n",
      "Colocations handled automatically by placer.\n",
      "Training ----------\n",
      "WARNING:tensorflow:From /home/texuanw/softwares/anaconda3/lib/python3.6/site-packages/tensorflow/python/ops/math_ops.py:3066: to_int32 (from tensorflow.python.ops.math_ops) is deprecated and will be removed in a future version.\n",
      "Instructions for updating:\n",
      "Use tf.cast instead.\n",
      "Epoch 1/2\n"
     ]
    },
    {
     "name": "stderr",
     "output_type": "stream",
     "text": [
      "/home/texuanw/softwares/anaconda3/lib/python3.6/site-packages/ipykernel_launcher.py:3: UserWarning: The `nb_epoch` argument in `fit` has been renamed `epochs`.\n",
      "  This is separate from the ipykernel package so we can avoid doing imports until\n"
     ]
    },
    {
     "name": "stdout",
     "output_type": "stream",
     "text": [
      "60000/60000 [==============================] - 4s 59us/step - loss: 0.3447 - acc: 0.9046\n",
      "Epoch 2/2\n",
      "60000/60000 [==============================] - 3s 53us/step - loss: 0.1964 - acc: 0.9432\n"
     ]
    }
   ],
   "source": [
    "rmsprop = RMSprop(lr=args.lr, rho=0.9, epsilon=1e-08, decay=0.0)\n",
    "\n",
    "model = load_model(args)\n",
    "model.compile(\n",
    "    optimizer=rmsprop,\n",
    "    loss='categorical_crossentropy',\n",
    "    metrics=['accuracy'],\n",
    ")\n",
    "model = train(model, X_train, y_train, args)"
   ]
  },
  {
   "cell_type": "code",
   "execution_count": 9,
   "metadata": {},
   "outputs": [
    {
     "name": "stdout",
     "output_type": "stream",
     "text": [
      "10000/10000 [==============================] - 0s 28us/step\n",
      "test loss: 0.1758191908955574\n",
      "test accuracy: 0.9516\n"
     ]
    }
   ],
   "source": [
    "test(model, X_test, y_test, args)"
   ]
  }
 ],
 "metadata": {
  "kernelspec": {
   "display_name": "Python 3",
   "language": "python",
   "name": "python3"
  },
  "language_info": {
   "codemirror_mode": {
    "name": "ipython",
    "version": 3
   },
   "file_extension": ".py",
   "mimetype": "text/x-python",
   "name": "python",
   "nbconvert_exporter": "python",
   "pygments_lexer": "ipython3",
   "version": "3.6.8"
  }
 },
 "nbformat": 4,
 "nbformat_minor": 2
}
