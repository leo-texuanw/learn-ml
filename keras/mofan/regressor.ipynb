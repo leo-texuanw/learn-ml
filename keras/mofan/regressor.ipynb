{
 "cells": [
  {
   "cell_type": "code",
   "execution_count": 1,
   "metadata": {},
   "outputs": [
    {
     "name": "stderr",
     "output_type": "stream",
     "text": [
      "Using TensorFlow backend.\n"
     ]
    }
   ],
   "source": [
    "from argparse import Namespace\n",
    "import numpy as np\n",
    "\n",
    "from keras.models import Sequential\n",
    "from keras.layers import Dense\n",
    "\n",
    "import matplotlib.pyplot as plt"
   ]
  },
  {
   "cell_type": "code",
   "execution_count": 2,
   "metadata": {},
   "outputs": [],
   "source": [
    "args = Namespace(\n",
    "    data_size = 200,\n",
    "    train_ratio = 0.8,\n",
    "    epoches = 301,\n",
    "    batch_size = 40,\n",
    ")"
   ]
  },
  {
   "cell_type": "code",
   "execution_count": 3,
   "metadata": {},
   "outputs": [],
   "source": [
    "def create_data(data_size=200, train_ratio=0.8):\n",
    "    np.random.seed(1337)\n",
    "    train_data_size = int(data_size * train_ratio)\n",
    "\n",
    "    X = np.linspace(-1, 1, data_size)\n",
    "    np.random.shuffle(X)\n",
    "    Y = 0.5 * X + 2 + np.random.normal(0, 0.05, (data_size, ))\n",
    "    \n",
    "    X_train, Y_train = X[:train_data_size], Y[:train_data_size]\n",
    "    X_test, Y_test = X[train_data_size:], Y[train_data_size:]\n",
    "    return X_train, Y_train, X_test, Y_test"
   ]
  },
  {
   "cell_type": "code",
   "execution_count": 4,
   "metadata": {},
   "outputs": [],
   "source": [
    "def plot_data(X, Y):\n",
    "    plt.scatter(X, Y)\n",
    "    plt.show()"
   ]
  },
  {
   "cell_type": "code",
   "execution_count": 5,
   "metadata": {},
   "outputs": [],
   "source": [
    "def model():\n",
    "    model = Sequential()\n",
    "    model.add(Dense(output_dim=1, input_dim=1))\n",
    "    # model.add(Dense(output_dim=1))  # input_dim is default to 1 layer's output\n",
    "    return model"
   ]
  },
  {
   "cell_type": "code",
   "execution_count": 6,
   "metadata": {},
   "outputs": [],
   "source": [
    "def train(model, args, X_train, Y_train):\n",
    "    print('\\nTraining--------')\n",
    "    for step in range(args.epoches):\n",
    "        cost = model.train_on_batch(X_train, Y_train)\n",
    "        if step % 100 == 0:\n",
    "            print('train cost:', cost)\n",
    "    return model"
   ]
  },
  {
   "cell_type": "code",
   "execution_count": 7,
   "metadata": {},
   "outputs": [],
   "source": [
    "def test(model, args, X_test, Y_test):\n",
    "    print('\\nTesting--------')\n",
    "    cost = model.evaluate(X_test, Y_test, batch_size=args.batch_size)\n",
    "    print('\\ntest cost:', cost)\n",
    "    W, b = model.layers[0].get_weights()\n",
    "    print('Wrights=', W, '\\nbiases=', b)\n",
    "    \n",
    "    return model"
   ]
  },
  {
   "cell_type": "code",
   "execution_count": 8,
   "metadata": {
    "scrolled": true
   },
   "outputs": [
    {
     "data": {
      "image/png": "[encoded data removed]",
      "text/plain": [
       "<Figure size 432x288 with 1 Axes>"
      ]
     },
     "metadata": {
      "needs_background": "light"
     },
     "output_type": "display_data"
    }
   ],
   "source": [
    "X_train, Y_train, X_test, Y_test = create_data(args.data_size, args.train_ratio)\n",
    "plot_data(X_train, Y_train)"
   ]
  },
  {
   "cell_type": "code",
   "execution_count": 9,
   "metadata": {},
   "outputs": [
    {
     "data": {
      "image/png": "[encoded data removed]",
      "text/plain": [
       "<Figure size 432x288 with 1 Axes>"
      ]
     },
     "metadata": {
      "needs_background": "light"
     },
     "output_type": "display_data"
    },
    {
     "name": "stdout",
     "output_type": "stream",
     "text": [
      "WARNING:tensorflow:From /home/texuanw/softwares/anaconda3/lib/python3.6/site-packages/tensorflow/python/framework/op_def_library.py:263: colocate_with (from tensorflow.python.framework.ops) is deprecated and will be removed in a future version.\n",
      "Instructions for updating:\n",
      "Colocations handled automatically by placer.\n",
      "\n",
      "Training--------\n",
      "WARNING:tensorflow:From /home/texuanw/softwares/anaconda3/lib/python3.6/site-packages/tensorflow/python/ops/math_ops.py:3066: to_int32 (from tensorflow.python.ops.math_ops) is deprecated and will be removed in a future version.\n",
      "Instructions for updating:\n",
      "Use tf.cast instead.\n"
     ]
    },
    {
     "name": "stderr",
     "output_type": "stream",
     "text": [
      "/home/texuanw/softwares/anaconda3/lib/python3.6/site-packages/ipykernel_launcher.py:3: UserWarning: Update your `Dense` call to the Keras 2 API: `Dense(input_dim=1, units=1)`\n",
      "  This is separate from the ipykernel package so we can avoid doing imports until\n"
     ]
    },
    {
     "name": "stdout",
     "output_type": "stream",
     "text": [
      "train cost: 4.0225005\n",
      "train cost: 0.073238626\n",
      "train cost: 0.00386274\n",
      "train cost: 0.002643449\n",
      "\n",
      "Testing--------\n",
      "40/40 [==============================] - 0s 321us/step\n",
      "\n",
      "test cost: 0.0031367032788693905\n",
      "Wrights= [[0.4922711]] \n",
      "biases= [1.9995022]\n"
     ]
    }
   ],
   "source": [
    "model = model()\n",
    "model.compile(loss='mse', optimizer='sgd')\n",
    "model = train(model, args, X_train, Y_train)\n",
    "model = test(model, args, X_test, Y_test)"
   ]
  },
  {
   "cell_type": "code",
   "execution_count": 15,
   "metadata": {
    "scrolled": true
   },
   "outputs": [
    {
     "data": {
      "image/png": "[encoded data removed]",
      "text/plain": [
       "<Figure size 432x288 with 1 Axes>"
      ]
     },
     "metadata": {
      "needs_background": "light"
     },
     "output_type": "display_data"
    }
   ],
   "source": [
    "Y_pred = model.predict(X_test)\n",
    "\n",
    "plt.scatter(X_test, Y_test)\n",
    "plt.plot(X_test, Y_pred, '-')\n",
    "plt.show()"
   ]
  }
 ],
 "metadata": {
  "kernelspec": {
   "display_name": "Python 3",
   "language": "python",
   "name": "python3"
  },
  "language_info": {
   "codemirror_mode": {
    "name": "ipython",
    "version": 3
   },
   "file_extension": ".py",
   "mimetype": "text/x-python",
   "name": "python",
   "nbconvert_exporter": "python",
   "pygments_lexer": "ipython3",
   "version": "3.6.8"
  }
 },
 "nbformat": 4,
 "nbformat_minor": 2
}
