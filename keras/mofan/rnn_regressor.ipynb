{
 "cells": [
  {
   "cell_type": "code",
   "execution_count": 1,
   "metadata": {},
   "outputs": [
    {
     "name": "stderr",
     "output_type": "stream",
     "text": [
      "Using TensorFlow backend.\n"
     ]
    }
   ],
   "source": [
    "from argparse import Namespace\n",
    "import numpy as np\n",
    "import matplotlib.pyplot as plt\n",
    "\n",
    "from keras.models import Sequential\n",
    "from keras.layers import LSTM, TimeDistributed, Dense\n",
    "from keras.optimizers import Adam"
   ]
  },
  {
   "cell_type": "code",
   "execution_count": 2,
   "metadata": {},
   "outputs": [],
   "source": [
    "np.random.seed(1337)\n",
    "\n",
    "args = Namespace(\n",
    "    TIME_STEPS = 20,  # same as the height of the image/ rows\n",
    "    INPUT_SIZE = 1,  # same as the width of the image/ columns\n",
    "    BATCH_SIZE = 50,\n",
    "    BATCH_START = 0,\n",
    "    OUTPUT_SIZE = 1,\n",
    "    CELL_SIZE = 20,\n",
    "    EPOCHES = 501,\n",
    "    LR = 1e-3,\n",
    ")"
   ]
  },
  {
   "cell_type": "code",
   "execution_count": 3,
   "metadata": {},
   "outputs": [],
   "source": [
    "def get_batch(args):\n",
    "    xs = np.arange(args.BATCH_START,\n",
    "                   args.BATCH_START+args.TIME_STEPS*args.BATCH_SIZE\n",
    "         ).reshape((args.BATCH_SIZE, args.TIME_STEPS)) / (10*np.pi)\n",
    "    seq = np.sin(xs)\n",
    "    res = np.cos(xs)\n",
    "    \n",
    "    args.BATCH_START += args.TIME_STEPS\n",
    "    \n",
    "    plt.plot(xs[0, :], res[0, :], 'r', xs[0, :], seq[0, :], 'b--')\n",
    "    plt.show()\n",
    "    \n",
    "    return [seq[:, :, np.newaxis], res[:, :, np.newaxis], xs]"
   ]
  },
  {
   "cell_type": "code",
   "execution_count": 4,
   "metadata": {},
   "outputs": [],
   "source": [
    "def build_model(args):\n",
    "    model = Sequential()\n",
    "    \n",
    "    model.add(LSTM(\n",
    "        batch_input_shape=(args.BATCH_SIZE, args.TIME_STEPS, args.INPUT_SIZE),\n",
    "        output_dim=args.CELL_SIZE,\n",
    "        return_sequences=True,\n",
    "        stateful=True,  # batches are related\n",
    "    ))\n",
    "    \n",
    "    model.add(TimeDistributed(Dense(args.OUTPUT_SIZE)))\n",
    "    \n",
    "    return model"
   ]
  },
  {
   "cell_type": "code",
   "execution_count": 5,
   "metadata": {},
   "outputs": [],
   "source": [
    "def train(args):\n",
    "    print('Training', '-' * 10)\n",
    "    fig,ax = plt.subplots(1,1)\n",
    "    ax.set_ylim(-1.2, 1.2)\n",
    "    for step in range(args.EPOCHES):\n",
    "        X_batch, y_batch, xs = get_batch(args)\n",
    "        cost = model.train_on_batch(X_batch, y_batch)\n",
    "        pred = model.predict(X_batch, args.BATCH_SIZE)\n",
    "\n",
    "        \n",
    "        ax.plot(xs[0, :], y_batch[0].flatten(), 'r',\n",
    "                  xs[0, :], pred.flatten()[:args.TIME_STEPS], 'b--')\n",
    "\n",
    "        fig.canvas.draw()\n",
    "\n",
    "        if step % 10 == 0:\n",
    "            print('train cost:', cost)"
   ]
  },
  {
   "cell_type": "code",
   "execution_count": 6,
   "metadata": {
    "scrolled": true
   },
   "outputs": [
    {
     "name": "stdout",
     "output_type": "stream",
     "text": [
      "WARNING:tensorflow:From /home/texuanw/softwares/anaconda3/lib/python3.6/site-packages/tensorflow/python/framework/op_def_library.py:263: colocate_with (from tensorflow.python.framework.ops) is deprecated and will be removed in a future version.\n",
      "Instructions for updating:\n",
      "Colocations handled automatically by placer.\n"
     ]
    },
    {
     "name": "stderr",
     "output_type": "stream",
     "text": [
      "/home/texuanw/softwares/anaconda3/lib/python3.6/site-packages/ipykernel_launcher.py:8: UserWarning: Update your `LSTM` call to the Keras 2 API: `LSTM(batch_input_shape=(50, 20, 1..., return_sequences=True, stateful=True, units=20)`\n",
      "  \n"
     ]
    }
   ],
   "source": [
    "# predict cos according to sin\n",
    "\n",
    "adam = Adam(args.LR)\n",
    "model = build_model(args)\n",
    "model.compile(optimizer=adam, loss='mse')"
   ]
  },
  {
   "cell_type": "code",
   "execution_count": null,
   "metadata": {},
   "outputs": [],
   "source": [
    "%matplotlib inline\n",
    "train(args)"
   ]
  },
  {
   "cell_type": "code",
   "execution_count": null,
   "metadata": {},
   "outputs": [],
   "source": []
  }
 ],
 "metadata": {
  "kernelspec": {
   "display_name": "Python 3",
   "language": "python",
   "name": "python3"
  },
  "language_info": {
   "codemirror_mode": {
    "name": "ipython",
    "version": 3
   },
   "file_extension": ".py",
   "mimetype": "text/x-python",
   "name": "python",
   "nbconvert_exporter": "python",
   "pygments_lexer": "ipython3",
   "version": "3.6.8"
  }
 },
 "nbformat": 4,
 "nbformat_minor": 2
}
