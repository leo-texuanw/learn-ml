{
 "cells": [
  {
   "cell_type": "code",
   "execution_count": 1,
   "metadata": {},
   "outputs": [
    {
     "name": "stderr",
     "output_type": "stream",
     "text": [
      "Using TensorFlow backend.\n"
     ]
    }
   ],
   "source": [
    "from argparse import Namespace\n",
    "import numpy as np\n",
    "\n",
    "from keras.datasets import mnist\n",
    "from keras.utils import np_utils\n",
    "from keras.models import Sequential\n",
    "from keras.layers import Dense, Activation, Convolution2D, MaxPooling2D, Flatten\n",
    "from keras.optimizers import Adam"
   ]
  },
  {
   "cell_type": "code",
   "execution_count": 3,
   "metadata": {},
   "outputs": [],
   "source": [
    "def load_data():\n",
    "    (X_train, y_train), (X_test, y_test) = mnist.load_data()\n",
    "    print(len(X_train), X_train.shape, y_train.shape)\n",
    "    \n",
    "    # number of instances, channel, width, height\n",
    "    X_train = X_train.reshape(-1, 1, 28, 28)\n",
    "    X_test = X_test.reshape(-1, 1, 28, 28)\n",
    "    y_train = np_utils.to_categorical(y_train, num_classes=10)\n",
    "    y_test = np_utils.to_categorical(y_test, num_classes=10)\n",
    "    \n",
    "    return X_train, y_train, X_test, y_test"
   ]
  },
  {
   "cell_type": "code",
   "execution_count": 4,
   "metadata": {},
   "outputs": [],
   "source": [
    "def model():\n",
    "    model = Sequential()\n",
    "    \n",
    "    # Conv layer 1\n",
    "    model.add(Convolution2D(\n",
    "        nb_filter= 32, # number of filters, each filter will get some info from image\n",
    "        nb_row=5,      # size of filters\n",
    "        nb_col=5,\n",
    "        border_mode='same',  # padding method\n",
    "        input_shape=(1, 28, 28)\n",
    "    ))\n",
    "    model.add(Activation('relu'))\n",
    "    \n",
    "    model.add(MaxPooling2D(\n",
    "        pool_size=(2, 2),\n",
    "        strides=(2, 2),\n",
    "        border_mode='same',  # padding method\n",
    "    ))\n",
    "    \n",
    "    # Conv layer 2\n",
    "    model.add(Convolution2D(64, 5, 5, border_mode='same'))\n",
    "    model.add(Activation('relu'))\n",
    "    model.add(MaxPooling2D(pool_size=(2,2), border_mode='same'))\n",
    "    \n",
    "    # Fully connected layer 1\n",
    "    model.add(Flatten())\n",
    "    model.add(Dense(1024))\n",
    "    model.add(Activation('relu'))\n",
    "    \n",
    "    # Fully connected layer 2\n",
    "    model.add(Dense(10))\n",
    "    model.add(Activation('softmax'))\n",
    "    \n",
    "    return model"
   ]
  },
  {
   "cell_type": "code",
   "execution_count": 5,
   "metadata": {},
   "outputs": [
    {
     "name": "stdout",
     "output_type": "stream",
     "text": [
      "60000 (60000, 28, 28) (60000,)\n",
      "WARNING:tensorflow:From /home/texuanw/softwares/anaconda3/lib/python3.6/site-packages/tensorflow/python/framework/op_def_library.py:263: colocate_with (from tensorflow.python.framework.ops) is deprecated and will be removed in a future version.\n",
      "Instructions for updating:\n",
      "Colocations handled automatically by placer.\n",
      "Training ----------\n",
      "WARNING:tensorflow:From /home/texuanw/softwares/anaconda3/lib/python3.6/site-packages/tensorflow/python/ops/math_ops.py:3066: to_int32 (from tensorflow.python.ops.math_ops) is deprecated and will be removed in a future version.\n",
      "Instructions for updating:\n",
      "Use tf.cast instead.\n"
     ]
    },
    {
     "name": "stderr",
     "output_type": "stream",
     "text": [
      "/home/texuanw/softwares/anaconda3/lib/python3.6/site-packages/ipykernel_launcher.py:10: UserWarning: Update your `Conv2D` call to the Keras 2 API: `Conv2D(input_shape=(1, 28, 28..., kernel_size=(5, 5), filters=32, padding=\"same\")`\n",
      "  # Remove the CWD from sys.path while we load stuff.\n",
      "/home/texuanw/softwares/anaconda3/lib/python3.6/site-packages/ipykernel_launcher.py:17: UserWarning: Update your `MaxPooling2D` call to the Keras 2 API: `MaxPooling2D(pool_size=(2, 2), strides=(2, 2), padding=\"same\")`\n",
      "/home/texuanw/softwares/anaconda3/lib/python3.6/site-packages/ipykernel_launcher.py:21: UserWarning: Update your `Conv2D` call to the Keras 2 API: `Conv2D(64, (5, 5), padding=\"same\")`\n",
      "/home/texuanw/softwares/anaconda3/lib/python3.6/site-packages/ipykernel_launcher.py:23: UserWarning: Update your `MaxPooling2D` call to the Keras 2 API: `MaxPooling2D(pool_size=(2, 2), padding=\"same\")`\n",
      "/home/texuanw/softwares/anaconda3/lib/python3.6/site-packages/ipykernel_launcher.py:12: UserWarning: The `nb_epoch` argument in `fit` has been renamed `epochs`.\n",
      "  if sys.path[0] == '':\n"
     ]
    },
    {
     "name": "stdout",
     "output_type": "stream",
     "text": [
      "Epoch 1/1\n",
      "60000/60000 [==============================] - 14s 228us/step - loss: 0.3110 - acc: 0.9158\n"
     ]
    },
    {
     "data": {
      "text/plain": [
       "<keras.callbacks.History at 0x7ff1d9075d68>"
      ]
     },
     "execution_count": 5,
     "metadata": {},
     "output_type": "execute_result"
    }
   ],
   "source": [
    "X_train, y_train, X_test, y_test = load_data()\n",
    "adam = Adam(lr=1e-4)\n",
    "\n",
    "model = model()\n",
    "model.compile(\n",
    "    optimizer=adam,\n",
    "    loss='categorical_crossentropy',\n",
    "    metrics=['accuracy']\n",
    ")\n",
    "\n",
    "print('Training', '-' * 10)\n",
    "model.fit(X_train, y_train, nb_epoch=1, batch_size=32)"
   ]
  },
  {
   "cell_type": "code",
   "execution_count": 6,
   "metadata": {},
   "outputs": [
    {
     "name": "stdout",
     "output_type": "stream",
     "text": [
      "Testing ----------\n",
      "10000/10000 [==============================] - 1s 76us/step\n",
      "\n",
      "test loss: 0.13122831776179372\n",
      "\n",
      "test accuracy: 0.9596\n"
     ]
    }
   ],
   "source": [
    "print('Testing', '-' * 10)\n",
    "loss, acc = model.evaluate(X_test, y_test)\n",
    "\n",
    "print('\\ntest loss:', loss)\n",
    "print('\\ntest accuracy:', acc)"
   ]
  }
 ],
 "metadata": {
  "kernelspec": {
   "display_name": "Python 3",
   "language": "python",
   "name": "python3"
  },
  "language_info": {
   "codemirror_mode": {
    "name": "ipython",
    "version": 3
   },
   "file_extension": ".py",
   "mimetype": "text/x-python",
   "name": "python",
   "nbconvert_exporter": "python",
   "pygments_lexer": "ipython3",
   "version": "3.6.8"
  }
 },
 "nbformat": 4,
 "nbformat_minor": 2
}
