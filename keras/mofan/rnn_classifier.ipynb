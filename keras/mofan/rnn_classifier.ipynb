{
 "cells": [
  {
   "cell_type": "code",
   "execution_count": 1,
   "metadata": {},
   "outputs": [
    {
     "name": "stderr",
     "output_type": "stream",
     "text": [
      "Using TensorFlow backend.\n"
     ]
    }
   ],
   "source": [
    "from argparse import Namespace\n",
    "import numpy as np\n",
    "\n",
    "from keras.datasets import mnist\n",
    "from keras.utils import np_utils\n",
    "from keras.models import Sequential\n",
    "from keras.layers import SimpleRNN, Dense, Activation\n",
    "from keras.optimizers import Adam"
   ]
  },
  {
   "cell_type": "code",
   "execution_count": 2,
   "metadata": {},
   "outputs": [],
   "source": [
    "np.random.seed(1337)\n",
    "\n",
    "args = Namespace(\n",
    "    TIME_STEPS = 28,  # same as the height of the image/ rows\n",
    "    INPUT_SIZE = 28,  # same as the width of the image/ columns\n",
    "    BATCH_SIZE = 50,  # TODO: fix last epoch < BATCH_SIZE cause error\n",
    "    BATCH_INDEX = 0,\n",
    "    OUTPUT_SIZE = 10,\n",
    "    CELL_SIZE = 50,\n",
    "    EPOCHES = 4001,\n",
    "    LR = 1e-3,\n",
    ")"
   ]
  },
  {
   "cell_type": "code",
   "execution_count": 3,
   "metadata": {},
   "outputs": [],
   "source": [
    "def load_data(args):\n",
    "    (X_train, y_train), (X_test, y_test) = mnist.load_data()\n",
    "    \n",
    "    X_train = X_train.reshape(-1, 28, 28) / 255    # normalize\n",
    "    X_test = X_test.reshape(-1, 28, 28) / 255\n",
    "    y_train = np_utils.to_categorical(y_train, num_classes=args.OUTPUT_SIZE)\n",
    "    y_test = np_utils.to_categorical(y_test, num_classes=args.OUTPUT_SIZE)\n",
    "    \n",
    "    return X_train, y_train, X_test, y_test"
   ]
  },
  {
   "cell_type": "code",
   "execution_count": 4,
   "metadata": {},
   "outputs": [],
   "source": [
    "def build_model(args):\n",
    "    model = Sequential()\n",
    "    # RNN cell\n",
    "    model.add(SimpleRNN(\n",
    "        batch_input_shape=(args.BATCH_SIZE, args.TIME_STEPS, args.INPUT_SIZE),\n",
    "        output_dim=args.CELL_SIZE,\n",
    "    ))\n",
    "    # output layer\n",
    "    model.add(Dense(args.OUTPUT_SIZE))\n",
    "    model.add(Activation('softmax'))    # default tanh: return [-1, 1]\n",
    "    \n",
    "    return model"
   ]
  },
  {
   "cell_type": "code",
   "execution_count": 5,
   "metadata": {},
   "outputs": [],
   "source": [
    "def train(model, args, X_train, y_train, X_test, y_test):\n",
    "    for step in range(args.EPOCHES):\n",
    "        # data shape = (batch_size, steps, inputs/outputs)\n",
    "        X_batch = X_train[args.BATCH_INDEX:args.BATCH_INDEX+args.BATCH_SIZE, :, :]\n",
    "        y_batch = y_train[args.BATCH_INDEX:args.BATCH_INDEX+args.BATCH_SIZE, :]\n",
    "        \n",
    "        cost = model.train_on_batch(X_batch, y_batch)\n",
    "        \n",
    "        args.BATCH_INDEX += args.BATCH_SIZE\n",
    "        args.BATCH_INDEX = 0 if args.BATCH_INDEX >= X_train.shape[0] else args.BATCH_INDEX\n",
    "        \n",
    "        if step % 500 == 0:\n",
    "            cost, acc = model.evaluate(X_test, y_test, batch_size=args.BATCH_SIZE, verbose=False)\n",
    "            print('test cost: ', cost, 'test accuracy: ', acc)\n",
    "\n",
    "    return model"
   ]
  },
  {
   "cell_type": "code",
   "execution_count": 6,
   "metadata": {},
   "outputs": [
    {
     "name": "stdout",
     "output_type": "stream",
     "text": [
      "WARNING:tensorflow:From /home/texuanw/softwares/anaconda3/lib/python3.6/site-packages/tensorflow/python/framework/op_def_library.py:263: colocate_with (from tensorflow.python.framework.ops) is deprecated and will be removed in a future version.\n",
      "Instructions for updating:\n",
      "Colocations handled automatically by placer.\n"
     ]
    },
    {
     "name": "stderr",
     "output_type": "stream",
     "text": [
      "/home/texuanw/softwares/anaconda3/lib/python3.6/site-packages/ipykernel_launcher.py:6: UserWarning: Update your `SimpleRNN` call to the Keras 2 API: `SimpleRNN(batch_input_shape=(50, 28, 2..., units=50)`\n",
      "  \n"
     ]
    },
    {
     "name": "stdout",
     "output_type": "stream",
     "text": [
      "WARNING:tensorflow:From /home/texuanw/softwares/anaconda3/lib/python3.6/site-packages/tensorflow/python/ops/math_ops.py:3066: to_int32 (from tensorflow.python.ops.math_ops) is deprecated and will be removed in a future version.\n",
      "Instructions for updating:\n",
      "Use tf.cast instead.\n",
      "test cost:  2.4058232843875884 test accuracy:  0.03909999929368496\n",
      "test cost:  0.5946149977296591 test accuracy:  0.8252999976277351\n",
      "test cost:  0.4534797954000533 test accuracy:  0.8631999951601028\n",
      "test cost:  0.3418855496309698 test accuracy:  0.900799997150898\n",
      "test cost:  0.3061706231161952 test accuracy:  0.9113999980688096\n",
      "test cost:  0.2858938118815422 test accuracy:  0.9154999980330467\n",
      "test cost:  0.30916016990318895 test accuracy:  0.9084999963641167\n",
      "test cost:  0.23095018286723643 test accuracy:  0.9320999968051911\n",
      "test cost:  0.22944507162552327 test accuracy:  0.934399998486042\n"
     ]
    }
   ],
   "source": [
    "X_train, y_train, X_test, y_test = load_data(args)\n",
    "\n",
    "# optimizer\n",
    "adam = Adam(args.LR)\n",
    "model = build_model(args)\n",
    "model.compile(optimizer=adam,\n",
    "              loss='categorical_crossentropy',\n",
    "              metrics=['accuracy'])\n",
    "model = train(model, args, X_train, y_train, X_test, y_test)"
   ]
  }
 ],
 "metadata": {
  "kernelspec": {
   "display_name": "Python 3",
   "language": "python",
   "name": "python3"
  },
  "language_info": {
   "codemirror_mode": {
    "name": "ipython",
    "version": 3
   },
   "file_extension": ".py",
   "mimetype": "text/x-python",
   "name": "python",
   "nbconvert_exporter": "python",
   "pygments_lexer": "ipython3",
   "version": "3.6.8"
  }
 },
 "nbformat": 4,
 "nbformat_minor": 2
}
