{
 "cells": [
  {
   "cell_type": "markdown",
   "metadata": {},
   "source": [
    "https://jasdeep06.github.io/posts/Understanding-LSTM-in-Tensorflow-MNIST/"
   ]
  },
  {
   "cell_type": "code",
   "execution_count": 1,
   "metadata": {},
   "outputs": [
    {
     "name": "stdout",
     "output_type": "stream",
     "text": [
      "WARNING:tensorflow:From <ipython-input-1-0b75d54b8834>:3: read_data_sets (from tensorflow.contrib.learn.python.learn.datasets.mnist) is deprecated and will be removed in a future version.\n",
      "Instructions for updating:\n",
      "Please use alternatives such as official/mnist/dataset.py from tensorflow/models.\n",
      "WARNING:tensorflow:From /home/texuanw/softwares/anaconda3/lib/python3.6/site-packages/tensorflow/contrib/learn/python/learn/datasets/mnist.py:260: maybe_download (from tensorflow.contrib.learn.python.learn.datasets.base) is deprecated and will be removed in a future version.\n",
      "Instructions for updating:\n",
      "Please write your own downloading logic.\n",
      "WARNING:tensorflow:From /home/texuanw/softwares/anaconda3/lib/python3.6/site-packages/tensorflow/contrib/learn/python/learn/datasets/mnist.py:262: extract_images (from tensorflow.contrib.learn.python.learn.datasets.mnist) is deprecated and will be removed in a future version.\n",
      "Instructions for updating:\n",
      "Please use tf.data to implement this functionality.\n",
      "Extracting ./data/train-images-idx3-ubyte.gz\n",
      "WARNING:tensorflow:From /home/texuanw/softwares/anaconda3/lib/python3.6/site-packages/tensorflow/contrib/learn/python/learn/datasets/mnist.py:267: extract_labels (from tensorflow.contrib.learn.python.learn.datasets.mnist) is deprecated and will be removed in a future version.\n",
      "Instructions for updating:\n",
      "Please use tf.data to implement this functionality.\n",
      "Extracting ./data/train-labels-idx1-ubyte.gz\n",
      "WARNING:tensorflow:From /home/texuanw/softwares/anaconda3/lib/python3.6/site-packages/tensorflow/contrib/learn/python/learn/datasets/mnist.py:110: dense_to_one_hot (from tensorflow.contrib.learn.python.learn.datasets.mnist) is deprecated and will be removed in a future version.\n",
      "Instructions for updating:\n",
      "Please use tf.one_hot on tensors.\n",
      "Extracting ./data/t10k-images-idx3-ubyte.gz\n",
      "Extracting ./data/t10k-labels-idx1-ubyte.gz\n",
      "WARNING:tensorflow:From /home/texuanw/softwares/anaconda3/lib/python3.6/site-packages/tensorflow/contrib/learn/python/learn/datasets/mnist.py:290: DataSet.__init__ (from tensorflow.contrib.learn.python.learn.datasets.mnist) is deprecated and will be removed in a future version.\n",
      "Instructions for updating:\n",
      "Please use alternatives such as official/mnist/dataset.py from tensorflow/models.\n"
     ]
    }
   ],
   "source": [
    "import tensorflow as tf\n",
    "from tensorflow.examples.tutorials.mnist import input_data\n",
    "mnist = input_data.read_data_sets(\"./data/\", one_hot=True)\n",
    "\n",
    "# import tensorflow as tf\n",
    "# mnist = tf.keras.datasets.mnist\n",
    "# (x_train, y_train), (x_test, y_test) = mnist.load_data(path='mnist.npz')\n",
    "\n",
    "time_steps = 28   # unrolled through 28 time steps\n",
    "num_units=128     # hidden LSTM units\n",
    "n_input = 28      # rows of 28 pixels\n",
    "lr = 1e-3\n",
    "n_classes = 10    # 0-9\n",
    "batch_size = 128"
   ]
  },
  {
   "cell_type": "code",
   "execution_count": 2,
   "metadata": {},
   "outputs": [
    {
     "name": "stdout",
     "output_type": "stream",
     "text": [
      "WARNING:tensorflow:From /home/texuanw/softwares/anaconda3/lib/python3.6/site-packages/tensorflow/python/framework/op_def_library.py:263: colocate_with (from tensorflow.python.framework.ops) is deprecated and will be removed in a future version.\n",
      "Instructions for updating:\n",
      "Colocations handled automatically by placer.\n"
     ]
    }
   ],
   "source": [
    "# weights and biases of appropriate shape\n",
    "out_weights = tf.Variable(tf.random_normal([num_units, n_classes]))\n",
    "out_bias = tf.Variable(tf.random_normal([n_classes]))\n",
    "\n",
    "# defining placeholders\n",
    "# input image placeholder\n",
    "x = tf.placeholder(tf.float32, [None, time_steps, n_input])\n",
    "y = tf.placeholder(tf.float32, [None, n_classes])"
   ]
  },
  {
   "cell_type": "code",
   "execution_count": 3,
   "metadata": {},
   "outputs": [],
   "source": [
    "# processing the input tensor from [batch_size, n_steps, n_input] to\n",
    "# \"time_steps\" number of [batch_size, n_input]\n",
    "input = tf.unstack(x, time_steps, 1)"
   ]
  },
  {
   "cell_type": "code",
   "execution_count": 4,
   "metadata": {},
   "outputs": [
    {
     "name": "stdout",
     "output_type": "stream",
     "text": [
      "WARNING:tensorflow:From <ipython-input-4-b7b0dbb18745>:3: static_rnn (from tensorflow.python.ops.rnn) is deprecated and will be removed in a future version.\n",
      "Instructions for updating:\n",
      "Please use `keras.layers.RNN(cell, unroll=True)`, which is equivalent to this API\n"
     ]
    }
   ],
   "source": [
    "# use one layer of LSTMCell to define our static_rnn network\n",
    "lstm_layer = tf.keras.layers.LSTMCell(num_units, unit_forget_bias=1)\n",
    "outputs, _ = tf.nn.static_rnn(lstm_layer, input, dtype=tf.float32)"
   ]
  },
  {
   "cell_type": "code",
   "execution_count": 5,
   "metadata": {},
   "outputs": [],
   "source": [
    "prediction = tf.matmul(outputs[-1], out_weights) + out_bias"
   ]
  },
  {
   "cell_type": "code",
   "execution_count": 6,
   "metadata": {},
   "outputs": [],
   "source": [
    "# loss function\n",
    "loss = tf.reduce_mean(tf.nn.softmax_cross_entropy_with_logits_v2(logits=prediction, labels=y))\n",
    "# optimization\n",
    "opt = tf.train.AdamOptimizer(learning_rate=lr).minimize(loss)\n",
    "\n",
    "# model evaluation\n",
    "correct_prediciton = tf.equal(tf.argmax(prediction, 1), tf.argmax(y, 1))\n",
    "acc = tf.reduce_mean(tf.cast(correct_prediciton, tf.float32))"
   ]
  },
  {
   "cell_type": "code",
   "execution_count": 7,
   "metadata": {},
   "outputs": [
    {
     "name": "stdout",
     "output_type": "stream",
     "text": [
      "For iter: 99\n",
      "Acc: 0.8359375\n",
      "Loss 0.5216467\n",
      "---------------\n",
      "For iter: 198\n",
      "Acc: 0.8984375\n",
      "Loss 0.29674888\n",
      "---------------\n",
      "For iter: 297\n",
      "Acc: 0.890625\n",
      "Loss 0.29140443\n",
      "---------------\n",
      "For iter: 396\n",
      "Acc: 0.9296875\n",
      "Loss 0.24170826\n",
      "---------------\n",
      "For iter: 495\n",
      "Acc: 0.9921875\n",
      "Loss 0.055558804\n",
      "---------------\n",
      "For iter: 594\n",
      "Acc: 0.9453125\n",
      "Loss 0.14953184\n",
      "---------------\n",
      "For iter: 693\n",
      "Acc: 0.96875\n",
      "Loss 0.081543714\n",
      "---------------\n",
      "For iter: 792\n",
      "Acc: 0.9609375\n",
      "Loss 0.13352157\n",
      "---------------\n"
     ]
    }
   ],
   "source": [
    "# init vars\n",
    "init = tf.global_variables_initializer()\n",
    "\n",
    "sess = tf.Session()\n",
    "sess.run(init)\n",
    "it = 1\n",
    "while it < 800:\n",
    "    batch_x, batch_y = mnist.train.next_batch(batch_size=batch_size)\n",
    "    batch_x = batch_x.reshape((batch_size, time_steps, n_input))\n",
    "    feed_dict = {x: batch_x, y: batch_y}\n",
    "    sess.run(opt, feed_dict=feed_dict)\n",
    "\n",
    "    if it % 99 == 0:\n",
    "        acc_val = sess.run(acc, feed_dict=feed_dict)\n",
    "        loss_val = sess.run(loss, feed_dict=feed_dict)\n",
    "\n",
    "        print(\"For iter:\", it)\n",
    "        print(\"Acc:\", acc_val)\n",
    "        print(\"Loss\", loss_val)\n",
    "        print(\"-\" * 15)\n",
    "    it += 1"
   ]
  },
  {
   "cell_type": "code",
   "execution_count": 8,
   "metadata": {},
   "outputs": [
    {
     "name": "stdout",
     "output_type": "stream",
     "text": [
      "Testing Accuracy: 0.9695\n"
     ]
    }
   ],
   "source": [
    "#calculating test accuracy\n",
    "test_data = mnist.test.images[:].reshape((-1, time_steps, n_input))\n",
    "test_label = mnist.test.labels[:]\n",
    "print(\"Testing Accuracy:\", sess.run(acc, feed_dict={x: test_data, y: test_label}))\n",
    "sess.close()"
   ]
  }
 ],
 "metadata": {
  "kernelspec": {
   "display_name": "Python 3",
   "language": "python",
   "name": "python3"
  },
  "language_info": {
   "codemirror_mode": {
    "name": "ipython",
    "version": 3
   },
   "file_extension": ".py",
   "mimetype": "text/x-python",
   "name": "python",
   "nbconvert_exporter": "python",
   "pygments_lexer": "ipython3",
   "version": "3.6.8"
  }
 },
 "nbformat": 4,
 "nbformat_minor": 2
}
